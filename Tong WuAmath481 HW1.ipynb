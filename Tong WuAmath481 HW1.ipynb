{
 "cells": [
  {
   "cell_type": "code",
   "execution_count": 1,
   "id": "60c9c9f8",
   "metadata": {},
   "outputs": [
    {
     "name": "stdout",
     "output_type": "stream",
     "text": [
      "[-1.6         3.19799514  2.46440244  1.2035359   0.65020146 -0.11692334\n",
      " -0.66052349 -0.52192654 -0.56655274 -0.57074658 -0.57078962 -0.57078962]\n"
     ]
    }
   ],
   "source": [
    "# Question 1 Part 1\n",
    "import numpy as np\n",
    "x = np.array([-1.6])\n",
    "for j in range (1000):\n",
    "    fx = x[j]*np.sin(3*x[j])-np.exp(x[j])\n",
    "    f_prime = np.sin(3*x[j])+3*x[j]*np.cos(3*x[j])-np.exp(x[j])\n",
    "    next_x = x[j] - (fx/f_prime)\n",
    "    x = np.append(x, next_x)\n",
    "    f_next_x = next_x*np.sin(3 * next_x) - np.exp(next_x) \n",
    "    if abs(fx) < 1e-6:\n",
    "        break\n",
    "print(x)  \n",
    "A1 = x\n",
    "iteration_1 = j+1"
   ]
  },
  {
   "cell_type": "code",
   "execution_count": 4,
   "id": "9fcf3ed0",
   "metadata": {},
   "outputs": [
    {
     "name": "stdout",
     "output_type": "stream",
     "text": [
      "Midpoints: [-0.55       -0.625      -0.5875     -0.56875    -0.578125   -0.5734375\n",
      " -0.57109375 -0.56992188 -0.57050781 -0.57080078 -0.5706543  -0.57072754\n",
      " -0.57076416 -0.57078247 -0.57079163 -0.57078705 -0.57078934]\n",
      "[11 17]\n"
     ]
    }
   ],
   "source": [
    "#Question 1 Part 2\n",
    "\n",
    "def f(x):\n",
    "    return x* np.sin(3*x)-np.exp(x)\n",
    "\n",
    "a = -0.7\n",
    "b = -0.4\n",
    "\n",
    "midpt = np.array([])\n",
    "\n",
    "for n in range (1000):\n",
    "    mid = (a+b)/2\n",
    "    midpt = np.append(midpt,mid)\n",
    "    f_mid = f(mid)\n",
    "\n",
    "    if  f_mid  > 0 :\n",
    "        a = mid\n",
    "    else:\n",
    "        b = mid\n",
    "    if abs(f_mid) < 1e-6:\n",
    "        break\n",
    "print(\"Midpoints:\", midpt)\n",
    "A1 = x\n",
    "iteration_1 = j+1\n",
    "A2 = midpt\n",
    "iteration_2 = n+1\n",
    "A3 = np.array([iteration_1,iteration_2 ])\n",
    "print(A3)"
   ]
  },
  {
   "cell_type": "code",
   "execution_count": 3,
   "id": "ecdc860e",
   "metadata": {},
   "outputs": [
    {
     "name": "stdout",
     "output_type": "stream",
     "text": [
      "[[ 3  2]\n",
      " [-1  3]]\n",
      "[ 3 -4]\n",
      "[ 1 -1]\n",
      "[ 2 -2]\n",
      "[ 1  2 -1]\n",
      "[ 3  5 -1]\n",
      "[[ 2  4]\n",
      " [-2  2]]\n",
      "[[ 4  0 -6]\n",
      " [ 0  0 -2]]\n",
      "[[5 4]\n",
      " [1 0]]\n"
     ]
    }
   ],
   "source": [
    "#Question 2 \n",
    "A = np.array([[1,2],[-1,1]])\n",
    "B = np.array([[2, 0], [0, 2]])\n",
    "C = np.array([[2, 0, -3], [0, 0, -1]])\n",
    "D = np.array([[1, 2], [2, 3], [-1, 0]])\n",
    "x = np.array([1, 0])\n",
    "y = np.array([0, 1])\n",
    "z = np.array([1, 2, -1])\n",
    "\n",
    "A4 = A + B #a\n",
    "print(A4)\n",
    "A5 = 3*x - 4*y #b\n",
    "print(A5)\n",
    "A6 = np.dot(A,x) #c\n",
    "print(A6)\n",
    "a7 = x-y \n",
    "A7 = np.dot(B,a7)#d\n",
    "print(A7)\n",
    "A8 = np.dot(D,x)\n",
    "print(A8)\n",
    "A9 = np.dot(D,y)+z #f\n",
    "print(A9)\n",
    "A10 = np.dot(A,B)\n",
    "print(A10)\n",
    "A11 = np.dot(B,C)\n",
    "print(A11)\n",
    "A12 = np.dot(C,D)\n",
    "print(A12)"
   ]
  },
  {
   "cell_type": "code",
   "execution_count": null,
   "id": "d1b694ee",
   "metadata": {},
   "outputs": [],
   "source": []
  }
 ],
 "metadata": {
  "kernelspec": {
   "display_name": "Python 3 (ipykernel)",
   "language": "python",
   "name": "python3"
  },
  "language_info": {
   "codemirror_mode": {
    "name": "ipython",
    "version": 3
   },
   "file_extension": ".py",
   "mimetype": "text/x-python",
   "name": "python",
   "nbconvert_exporter": "python",
   "pygments_lexer": "ipython3",
   "version": "3.9.13"
  }
 },
 "nbformat": 4,
 "nbformat_minor": 5
}
